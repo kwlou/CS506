{
 "cells": [
  {
   "cell_type": "markdown",
   "metadata": {},
   "source": [
    "# Scraping Hotel Ratings on Tripadvisor"
   ]
  },
  {
   "cell_type": "markdown",
   "metadata": {},
   "source": [
    "In this homework we will practice web scraping. Let's get some basic information for each hotel in Boston."
   ]
  },
  {
   "cell_type": "markdown",
   "metadata": {},
   "source": [
    "On each hotel page, scrape the Traverler ratings. **(10 pts)**\n",
    "\n",
    "![Information to be scraped](traveler_ratings.png)\n",
    "\n",
    "Save the data in \"traverler_ratings.csv\" in the following format:\n",
    "\n",
    "hotel_name, rating, count"
   ]
  },
  {
   "cell_type": "code",
   "execution_count": 3,
   "metadata": {
    "collapsed": true
   },
   "outputs": [],
   "source": [
    "import requests\n",
    "from bs4 import BeautifulSoup\n",
    "import csv\n",
    "\n",
    "base_url = \"http://www.tripadvisor.com\"\n",
    "city_url = base_url + \"/\"+ 'Hotels-g60745-Boston_Massachusetts-Hotels.html'\n",
    "response = requests.get(city_url)\n",
    "html = response.text.encode('utf-8')\n",
    "# create a beautifulsoup object of the search page of boston hotel\n",
    "soup = BeautifulSoup(html, \"lxml\")"
   ]
  },
  {
   "cell_type": "code",
   "execution_count": 4,
   "metadata": {
    "collapsed": false
   },
   "outputs": [
    {
     "data": {
      "text/plain": [
       "'https://www.tripadvisor.com/Hotels-g60745-Boston_Massachusetts-Hotels.html'"
      ]
     },
     "execution_count": 4,
     "metadata": {},
     "output_type": "execute_result"
    }
   ],
   "source": [
    "# select the language to be english\n",
    "li = soup.find('link',{'hreflang':'en'})\n",
    "url = li['href']\n",
    "url"
   ]
  },
  {
   "cell_type": "code",
   "execution_count": 41,
   "metadata": {
    "collapsed": false
   },
   "outputs": [],
   "source": [
    "# define a function to parse the search page of hotel list \n",
    "def parse_hotellist_page(html):\n",
    "\n",
    "    soup_hotel = BeautifulSoup(requests.get(html).text.encode('utf-8'),'lxml')\n",
    "    hotel_boxes = soup_hotel.select('div.listing.easyClear.p13n_imperfect')\n",
    "    \n",
    "    for hotel_box in hotel_boxes:\n",
    "        hotel_rating = []\n",
    "        name = hotel_box.find('div', {'class' :'listing_title'}).find(text=True)\n",
    "        hotel_url = base_url +  hotel_box.find('div', {'class' :'listing_title'}).find('a')['href']\n",
    "        # get the url of each hotel in the list of hotels\n",
    "        hotel_soup = BeautifulSoup(requests.get(hotel_url).text.encode('utf-8'), \"lxml\")\n",
    "        review_col = hotel_soup.find('div', {'class':'col rating '})\n",
    "        review = [tmp.string for tmp in review_col.find_all('div',{'class': 'row_label'})]\n",
    "        span = review_col.find_all('span', {'class':'row_fill'})\n",
    "        count = [sp.next_element.next_element.next_element.text.strip('\\n') for sp in span]\n",
    "        for i in range(len(count)):\n",
    "            hotel_rating.append([name, review[i], count[i]])\n",
    "        # write ratings and counts to file\n",
    "        with open('traveler_ratings.csv', 'a', newline='') as csvfile:\n",
    "            for line in hotel_rating:\n",
    "                writer = csv.writer(csvfile)\n",
    "                writer.writerow(line)\n",
    "    \n",
    "    # Get next URL page if exists, else exit\n",
    "    div = soup_hotel.find(\"div\", {\"class\" : \"unified pagination standard_pagination\"})\n",
    "    \n",
    "    # check if last page\n",
    "    if div.find('span', {'class' : 'nav next ui_button disabled'}):\n",
    "        return None\n",
    "    # If it is not las page there must be the Next URL\n",
    "    hrefs = div.find_all('a', href= True)\n",
    "    for href in hrefs:\n",
    "        if href.find(text = True) == 'Next':\n",
    "            print ('find next page')\n",
    "            return href['href']"
   ]
  },
  {
   "cell_type": "code",
   "execution_count": 42,
   "metadata": {
    "collapsed": false
   },
   "outputs": [
    {
     "data": {
      "text/plain": [
       "'https://www.tripadvisor.com/Hotels-g60745-Boston_Massachusetts-Hotels.html'"
      ]
     },
     "execution_count": 42,
     "metadata": {},
     "output_type": "execute_result"
    }
   ],
   "source": [
    "url"
   ]
  },
  {
   "cell_type": "code",
   "execution_count": 43,
   "metadata": {
    "collapsed": false
   },
   "outputs": [
    {
     "name": "stdout",
     "output_type": "stream",
     "text": [
      "1\n",
      "find next page\n",
      "2\n",
      "find next page\n",
      "3\n",
      "Write result to travel_rating.csv.\n"
     ]
    }
   ],
   "source": [
    "# list1_url = parse_hotellist_page(list_url)\n",
    "with open('traveler_ratings.csv', 'a') as csvfile:\n",
    "    writer = csv.writer(csvfile)\n",
    "    writer.writerow(['hotel_name','rating', 'count'])\n",
    "j = 0\n",
    "while(True):    \n",
    "    j = j + 1\n",
    "    print (j)\n",
    "    if j>1:\n",
    "        url = base_url + url\n",
    "    url = parse_hotellist_page(url)\n",
    "    if url==None:\n",
    "        print ('Write result to travel_rating.csv.')\n",
    "        break"
   ]
  },
  {
   "cell_type": "markdown",
   "metadata": {},
   "source": [
    "-------"
   ]
  },
  {
   "cell_type": "markdown",
   "metadata": {},
   "source": [
    "Next, scrape all the reviews of each hotel for the star ratings of the following attributes: Value, Location, Sleep Quality, Rooms, Cleanliness, Service. Note that some reviews may not have attribute ratings and some may only have some of the attributes. **(25 pts)**\n",
    "\n",
    "![Information to be scraped](attribute_ratings.png)\n",
    "\n",
    "Save the data in \"attribute_ratings.csv\" in the following format:\n",
    "\n",
    "hotel_name, review_id, attribute, star_value"
   ]
  },
  {
   "cell_type": "code",
   "execution_count": 5,
   "metadata": {
    "collapsed": false
   },
   "outputs": [
    {
     "data": {
      "text/plain": [
       "'https://www.tripadvisor.com/Hotels-g60745-Boston_Massachusetts-Hotels.html'"
      ]
     },
     "execution_count": 5,
     "metadata": {},
     "output_type": "execute_result"
    }
   ],
   "source": [
    "li = soup.find('link',{'hreflang':'en'})\n",
    "url = li['href']\n",
    "url"
   ]
  },
  {
   "cell_type": "code",
   "execution_count": 6,
   "metadata": {
    "collapsed": true
   },
   "outputs": [],
   "source": [
    "def parse_hotellist_reivew(html):\n",
    "    attr_list = ['Value', 'Location', 'Sleep Quality', 'Rooms', 'Cleanliness', 'Service']\n",
    "    soup_list = BeautifulSoup(requests.get(html).text.encode('utf-8'),'lxml')\n",
    "    hotel_boxes = soup_list.select('div.listing.easyClear.p13n_imperfect')\n",
    "    \n",
    "    # get each hotel in the list of hotels\n",
    "    for hotel_box in hotel_boxes:\n",
    "\n",
    "        name = hotel_box.find('div', {'class' :'listing_title'}).find(text=True)\n",
    "        # print each hotel name that encountered\n",
    "        print (name)\n",
    "        hotel_url = base_url +  hotel_box.find('div', {'class' :'listing_title'}).find('a')['href']\n",
    "        hotel_soup = BeautifulSoup(requests.get(hotel_url).text.encode('utf-8'), \"lxml\")\n",
    "        # get the link of the first review\n",
    "        if hotel_soup.find('div', {'class': 'quote isNew'})!=None:\n",
    "            rev_link = base_url + hotel_soup.find('div', {'class': 'quote isNew'}).a['href']\n",
    "        else:\n",
    "            rev_link = base_url + hotel_soup.find('div', {'class': 'quote'}).a['href']\n",
    "\n",
    "        while (True):\n",
    "            # get the link of the first review to get the star rating, and then traverse the review pages\n",
    "            rev_soup = BeautifulSoup(requests.get(rev_link).text.encode('utf-8'), \"lxml\")\n",
    "            rev_id = [rev.p['id'] for rev in rev_soup.find_all('div', {'class': 'entry'})]\n",
    "\n",
    "            rev_box = rev_soup.find_all('div',{'class':'rating-list'})\n",
    "            rating = []\n",
    "            attr = []\n",
    "            hotel_rating = []\n",
    "            for rev in rev_box:\n",
    "                rate1 = [rate['alt'][0] for rate in rev.find_all('img')]\n",
    "                rating.append(rate1)\n",
    "                attribute = [attr.text for attr in rev.find_all('div', {'class': 'recommend-description'})]\n",
    "                attr.append(attribute)\n",
    "\n",
    "            for j in range(len(rating)):\n",
    "                rate = rating[j]\n",
    "                attribute = attr[j]\n",
    "                if len(rate) > 0:\n",
    "                    for jj in range(len(rate)):\n",
    "                        if attribute[jj] in attr_list:\n",
    "                            hotel_rating.append([name, rev_id[j], attribute[jj], rate[jj]])\n",
    "            # write attribute rating to file               \n",
    "            with open('attribute_ratings.csv', 'a', newline='') as csvfile:\n",
    "                for line in hotel_rating:\n",
    "                    writer = csv.writer(csvfile)\n",
    "                    writer.writerow(line)\n",
    "            # if there is no more page of reviews, break out of while loop to get the next hotel\n",
    "            if rev_soup.find('span', {'class': 'nav next disabled'}):\n",
    "                break\n",
    "            rev_link = base_url + rev_soup.find(\"a\", {\"class\" : \"nav next rndBtn ui_button primary taLnk\"})['href']\n",
    "    \n",
    "    # Get next URL page if exists, else exit\n",
    "    div = soup_list.find(\"div\", {\"class\" : \"unified pagination standard_pagination\"})\n",
    "    \n",
    "    # check if last page of hotels\n",
    "    if div.find('span', {'class' : 'nav next ui_button disabled'}):\n",
    "        return None\n",
    "    # If it is not las page there must be the Next URL\n",
    "    hrefs = div.find_all('a', href= True)\n",
    "    for href in hrefs:\n",
    "        if href.find(text = True) == 'Next':\n",
    "            print ('find next page of list of hotels')\n",
    "            next_page = base_url + href['href']\n",
    "            return next_page"
   ]
  },
  {
   "cell_type": "code",
   "execution_count": 7,
   "metadata": {
    "collapsed": false
   },
   "outputs": [
    {
     "data": {
      "text/plain": [
       "'https://www.tripadvisor.com/Hotels-g60745-Boston_Massachusetts-Hotels.html'"
      ]
     },
     "execution_count": 7,
     "metadata": {},
     "output_type": "execute_result"
    }
   ],
   "source": [
    "next_page = url\n",
    "next_page"
   ]
  },
  {
   "cell_type": "code",
   "execution_count": 8,
   "metadata": {
    "collapsed": false
   },
   "outputs": [
    {
     "name": "stdout",
     "output_type": "stream",
     "text": [
      "Marriott Vacation Club Pulse at Custom House, Boston\n",
      "Boston Harbor Hotel\n",
      "Seaport Boston Hotel\n",
      "Four Seasons Hotel Boston\n",
      "Lenox Hotel\n",
      "Courtyard Boston Copley Square\n",
      "InterContinental Boston\n",
      "Hotel Commonwealth\n",
      "Mandarin Oriental, Boston\n",
      "Residence Inn Boston Back Bay/Fenway\n",
      "Eliot Hotel\n",
      "XV Beacon\n",
      "Residence Inn Boston Downtown/Seaport\n",
      "Kimpton Nine Zero Hotel\n",
      "Hilton Garden Inn Boston Logan Airport\n",
      "The Verb Hotel\n",
      "The Godfrey Hotel Boston\n",
      "enVision Hotel Boston - Longwood\n",
      "The Langham, Boston\n",
      "Loews Boston Hotel\n",
      "The Boxer Boston\n",
      "Colonnade Hotel\n",
      "Residence Inn Boston Harbor on Tudor Wharf\n",
      "Fairmont Copley Plaza, Boston\n",
      "Copley Square Hotel\n",
      "W Boston\n",
      "The Bostonian Boston\n",
      "Taj Boston\n",
      "The Westin Copley Place, Boston\n",
      "Newbury Guest House\n",
      "find next page of list of hotels\n",
      "The Envoy Hotel, Autograph Collection\n",
      "Hyatt Regency Boston Harbor\n",
      "Hyatt Regency Boston\n",
      "The Ritz-Carlton, Boston\n",
      "Kimpton Onyx Hotel\n",
      "Boston Marriott Long Wharf\n",
      "The Westin Boston Waterfront\n",
      "Revere Hotel Boston Common\n",
      "The Inn At St Botolph\n",
      "Ames Boston Hotel, Curio Collection by Hilton\n",
      "The Liberty, A Luxury Collection Hotel\n",
      "Battery Wharf Hotel, Boston Waterfront\n",
      "Renaissance Boston Waterfront Hotel\n",
      "Omni Parker House\n",
      "Sheraton Boston Hotel\n",
      "DoubleTree by Hilton Hotel Boston - Downtown\n",
      "Club Quarters Hotel in Boston\n",
      "Harborside Inn\n",
      "Charlesmark Hotel\n",
      "Boston Marriott Copley Place\n",
      "DoubleTree Suites by Hilton Boston-Cambridge\n",
      "Hotel 140\n",
      "The Inn at Longwood Medical\n",
      "Holiday Inn Express Boston\n",
      "Hilton Boston Back Bay\n",
      "Boston Park Plaza\n",
      "Hilton Boston Downtown / Faneuil Hall\n",
      "Embassy Suites by Hilton Boston - at Logan Airport\n",
      "DoubleTree Club by Hilton Hotel Boston Bayside\n",
      "Hilton Boston Logan Airport\n",
      "find next page of list of hotels\n",
      "Element Boston Seaport\n",
      "Hampton Inn & Suites Boston Crosstown Center\n",
      "Chandler Inn\n",
      "Wyndham Boston Beacon Hill\n",
      "Boston Hotel Buckminster\n",
      "Copley House\n",
      "The Midtown Hotel\n",
      "Aloft Boston Seaport\n",
      "Holiday Inn Express Hotel & Suites Boston Garden\n",
      "Courtyard Boston Downtown\n",
      "Courtyard Boston Logan Airport\n",
      "Courtyard Boston-South Boston\n",
      "Beacon Hill Hotel and Bistro\n",
      "BEST WESTERN PLUS Roundhouse Suites\n",
      "Comfort Inn - Boston\n",
      "Hotel Boston\n",
      "Ramada Boston\n",
      "Milner Hotel\n",
      "The Boston Common Hotel and Conference Center\n",
      "Constitution Inn\n",
      "Americas Best Value Inn\n",
      "Days Hotel Boston-Harvard Fenway\n",
      "Write result to attribute_ratings.csv.\n"
     ]
    }
   ],
   "source": [
    "with open('attribute_ratings.csv', 'a', newline='') as csvfile:\n",
    "    writer = csv.writer(csvfile)\n",
    "    writer.writerow(['hotel_name','review_id', 'attribute', 'star_value'])\n",
    "while (True):\n",
    "    if next_page == None:\n",
    "        print ('Write result to attribute_ratings.csv.')\n",
    "        break\n",
    "    next_page = parse_hotellist_reivew(next_page)\n",
    "    "
   ]
  },
  {
   "cell_type": "markdown",
   "metadata": {},
   "source": [
    "-------"
   ]
  }
 ],
 "metadata": {
  "anaconda-cloud": {},
  "kernelspec": {
   "display_name": "Python [conda root]",
   "language": "python",
   "name": "conda-root-py"
  },
  "language_info": {
   "codemirror_mode": {
    "name": "ipython",
    "version": 3
   },
   "file_extension": ".py",
   "mimetype": "text/x-python",
   "name": "python",
   "nbconvert_exporter": "python",
   "pygments_lexer": "ipython3",
   "version": "3.5.2"
  }
 },
 "nbformat": 4,
 "nbformat_minor": 0
}
