{
 "cells": [
  {
   "cell_type": "markdown",
   "metadata": {},
   "source": [
    "# Stack Overflow"
   ]
  },
  {
   "cell_type": "markdown",
   "metadata": {},
   "source": [
    "## Introduction "
   ]
  },
  {
   "cell_type": "markdown",
   "metadata": {},
   "source": [
    "In the second part of this assignment, you will choose to create and analyze time series of creation dates of Stack Overflow questions, or Stack Overflow answers. You need to choose only one of the two, but please mention clearly what kind of time series you created. This assignment is to be completed **INDIVIDUALLY** and is due on **October 6 at 5pm**."
   ]
  },
  {
   "cell_type": "markdown",
   "metadata": {},
   "source": [
    "As stated above, you need to create time series of Stack Overflow questions, or answers using their creation dates. In order to do so you should use the information derived from Homework 1.1. Note that the focus of this homework is not on data collection, but on data analysis and interpretation so do not worry if you did not collect all data in the previous homework.\n",
    "\n",
    "You are going to analyze users. If you selected to create time series of questions take the top 100 users with the most question posts, while if you created time series of answers take the top 100 users with the highest answer scores. For each user, your time series will be the number of questions (for questions), or the score value (for answers) posted by that user at some frequency. You may choose to sample your data each week, each month, on a certain day of the week or at a certain hours in a day depending on what trend you are hoping to find in the data. For example, if you choose to analyze users asking questions and sample during different hours of the day, your hypothesis could be that some users ask more questions during night hours because they are students, while others are more active during day time because they work in industry.   \n",
    "\n",
    "Compare the time series using one of the methods discussed in class. In a few paragraphs, write down what you were hoping to find in the data (your hypothesis), what timeseries you created, what method you chose and why. Providing us with novel, or more than one hypotheses/analyses will give you extra credit. **(20 pts)**\n",
    "\n",
    "You may find the [pandas.DataFrame.resample](http://pandas.pydata.org/pandas-docs/stable/generated/pandas.DataFrame.resample.html) module helpful."
   ]
  },
  {
   "cell_type": "code",
   "execution_count": 2,
   "metadata": {
    "collapsed": true,
    "scrolled": true
   },
   "outputs": [],
   "source": [
    "import xml.etree.ElementTree as etree\n",
    "import time\n",
    "import sys\n",
    "import csv\n",
    "import numpy as np\n",
    "import scipy as sp\n",
    "import matplotlib.pyplot as plt\n",
    "import pandas as pd\n",
    "import sklearn.datasets as sk_data\n",
    "import sklearn.metrics as metrics\n",
    "import seaborn as sns\n",
    "from datetime import datetime\n",
    "\n",
    "\n",
    "# Using the same csv outputfrom homework 1.1\n",
    "df = pd.read_csv('hw2.csv', encoding = \"ISO-8859-1\")"
   ]
  },
  {
   "cell_type": "code",
   "execution_count": 3,
   "metadata": {
    "collapsed": true
   },
   "outputs": [],
   "source": [
    "# This block here is to convert the strings in the date to a datetime index inside the same dataframe\n",
    "df['CreationDate'] = df['CreationDate'].map(lambda x: pd.to_datetime(x))"
   ]
  },
  {
   "cell_type": "markdown",
   "metadata": {},
   "source": [
    "This time I want to analayze the time series of answers to see if there were different days of the week people are more active. I would hypothesize that they are most active during the weekdays, as again, these top 100 answers are probably people who are working, answering during work hours.\n",
    " \n",
    "So to do this I created time series for each user in the top 100 scores, resampled them by day sized bins, then I looked up the calender of the year of the data (2015) to determine what day of the week it started it (Thursday = Jan 1st 2015). Then I made a loop to sum all the user's answers on weekdays and sum all the posts on weekends then compared them on a user by user basis, starting with euclidean pairwise distance. I also attempted to create two k++ clusters to see if this supports my hypothesis of weekday/weekend clusters of answerers."
   ]
  },
  {
   "cell_type": "code",
   "execution_count": 4,
   "metadata": {
    "collapsed": true,
    "scrolled": true
   },
   "outputs": [],
   "source": [
    "# This gets me the top 100 Scores for ANSWERS\n",
    "dfnoQ = df.get(df.Type != 'Q')\n",
    "pd.options.mode.chained_assignment = None  # default='warn'\n",
    "dfnoQ['Score'] = pd.to_numeric(dfnoQ.Score, errors='coerce').fillna(0).astype(np.int64)\n",
    "dfsumscore = dfnoQ.groupby('OwnerUserId',as_index=False).agg({'Id': 'first',     #summing for the score column if the userid column is a duplicate\n",
    "                                                'CreationDate': 'first',\n",
    "                                                'Tags': 'first',\n",
    "                                                'ViewCount': 'first',\n",
    "                                                'Score':sum,\n",
    "                                                'Type': 'first'}).reset_index(drop=True)\n",
    "\n",
    "results = dfsumscore.nlargest(100,'Score')\n",
    "results.index = np.arange(0,len(results))\n",
    "\n",
    "# I want to create subset dataframes for each of the users in the top 100 scores, then sort them based on time\n",
    "userdic = {}\n",
    "bins = 'D'\n",
    "for user in results['OwnerUserId']:\n",
    "    userdic[user] = df.loc[df['OwnerUserId'] == user]\n",
    "    userdic[user] = userdic[user].sort_values(['CreationDate'])\n",
    "    userdic[user]['Score'] = pd.to_numeric(userdic[user]['Score'],errors='coerce')\n",
    "    # Below here is where we reindex so we can convert the date to proper datetimeindex\n",
    "    # then we resample for 3 hours bins\n",
    "    userdic[user].set_index('CreationDate')\n",
    "    userdic[user] = userdic[user].reset_index().set_index('CreationDate').Score.resample(bins).mean()\n",
    "    userdic[user] = userdic[user].fillna(0)  #put 0's in for NaN returns"
   ]
  },
  {
   "cell_type": "code",
   "execution_count": 34,
   "metadata": {
    "scrolled": true
   },
   "outputs": [
    {
     "data": {
      "image/png": "[encoded data removed]",
      "text/plain": [
       "<matplotlib.figure.Figure at 0x28df80fefd0>"
      ]
     },
     "metadata": {},
     "output_type": "display_data"
    }
   ],
   "source": [
    "# Now for the fun part, lets first test our initial hypothesis and see when these top posts were most active\n",
    "daily = {}\n",
    "weekday = 0\n",
    "weekend = 0\n",
    "for user in userdic:\n",
    "    for n in range(0,52):\n",
    "        try:\n",
    "            if n == 0:\n",
    "                weekday = userdic[user][0] + userdic[user][1]\n",
    "            elif n == 52:\n",
    "                weekend = userdic[user][(7*(n-1))+2] + userdic[user][(7*(n-1))+3] + weekend\n",
    "                weekday = userdic[user][(7*(n-1))+4] + userdic[user][(7*(n-1))+5] + userdic[user][(7*(n-1))+6] + userdic[user][(7*(n-1))+7] + weekday\n",
    "            else:\n",
    "                weekend = userdic[user][(7*(n-1))+2] + userdic[user][(7*(n-1))+3] + weekend\n",
    "                weekday = userdic[user][(7*(n-1))+4] + userdic[user][(7*(n-1))+5] + userdic[user][(7*(n-1))+6] + userdic[user][(7*(n-1))+7] + userdic[user][(7*(n-1))+8] + weekday\n",
    "        except:\n",
    "            pass\n",
    "    daily[user] = [weekday, weekend]\n",
    "        \n",
    "\n",
    "array = np.empty([2,])\n",
    "for user in daily:\n",
    "    array = np.vstack(((np.asarray(list(daily[user]))),array))\n",
    "    \n",
    "%matplotlib inline\n",
    "pdistance = metrics.pairwise.pairwise_distances(array)\n",
    "_ = sns.heatmap(pdistance, xticklabels=False, yticklabels=False, linewidths=0, square=True,cbar=True)"
   ]
  },
  {
   "cell_type": "markdown",
   "metadata": {},
   "source": [
    "\n",
    "Plot the 2 most similar timeseries in one graph, and plot the 2 most different time series in another graph. Label your axes. **(5 pts)**"
   ]
  },
  {
   "cell_type": "code",
   "execution_count": 39,
   "metadata": {
    "scrolled": false
   },
   "outputs": [
    {
     "data": {
      "image/png": "[encoded data removed]",
      "text/plain": [
       "<matplotlib.figure.Figure at 0x28df42e8710>"
      ]
     },
     "metadata": {},
     "output_type": "display_data"
    },
    {
     "data": {
      "image/png": "[encoded data removed]",
      "text/plain": [
       "<matplotlib.figure.Figure at 0x28dc71f0d30>"
      ]
     },
     "metadata": {},
     "output_type": "display_data"
    }
   ],
   "source": [
    "# These should get me the row of the user in the pairwise distance, which should be the same values as the row in the \"array\" function made earlier\n",
    "maxdist1 = np.where(pdistance == np.max(pdistance[np.nonzero(pdistance)]))[0][0]    \n",
    "mindist1 = np.where(pdistance == np.min(pdistance[np.nonzero(pdistance)]))[0][0]    \n",
    "maxdist2 = np.where(pdistance == np.max(pdistance[np.nonzero(pdistance)]))[1][0]    \n",
    "mindist2 = np.where(pdistance == np.min(pdistance[np.nonzero(pdistance)]))[1][0]  \n",
    "\n",
    "# Find the users who's pairwise distance is the max and min respectively\n",
    "for user in daily:\n",
    "    if np.array_equal(daily[user],(array[maxdist1])):\n",
    "        locmax1 = user\n",
    "    if np.array_equal(daily[user],(array[maxdist2])):\n",
    "        locmax2 = user\n",
    "\n",
    "for user in daily:\n",
    "    if np.array_equal(daily[user],(array[mindist1])):\n",
    "        locmin1 = user \n",
    "    if np.array_equal(daily[user],(array[mindist2])):\n",
    "        locmin2 = user\n",
    "\n",
    "# Now we can plot the two max dist users and 2 min distance users together\n",
    "timeaxis = np.arange(1,3)\n",
    "plt.plot(timeaxis, np.asarray(daily[locmin1]), 'bs', timeaxis, np.asarray(daily[locmin2]), 'r^')\n",
    "plt.ylabel('Score')\n",
    "plt.xlabel('Time bins weekday(1) and weekend(2) of Answers')\n",
    "plt.title('Min Euclidean Distance')\n",
    "plt.show()\n",
    "\n",
    "plt.plot(timeaxis, np.asarray(daily[locmax1]), 'bs', timeaxis, np.asarray(daily[locmax2]), 'r^')\n",
    "plt.ylabel('Score')\n",
    "plt.xlabel('Time bins weekday(1) and weekend(2) of Answers')\n",
    "plt.title('Max Euclidean Distance')\n",
    "plt.show()"
   ]
  },
  {
   "cell_type": "markdown",
   "metadata": {},
   "source": [
    "What are your interpretation/conclusions from the above plotting comparisons? **(5 pts)**"
   ]
  },
  {
   "cell_type": "markdown",
   "metadata": {},
   "source": [
    "Ok so it's to be expected that we have users that post at different schedules, weekdays vs weekends, but this doesn't tell me anything abotu how many people post no weekends and how many in weekdays, to do that I would need clsutering. However this is a neat proof of concept in that there are definitely differently scheduled people/habits on when they answer questions on stackexchange. Furthermore this completely disproved my hypothesis that people psot more during the weekdays, these dedicated answerers to the community clearly spend their free time during the weekends doing Gods work to struggling students/industry people alike"
   ]
  },
  {
   "cell_type": "markdown",
   "metadata": {},
   "source": [
    "Choose a different distance/similarity metric and repeat the same time series analysis. **(5 pts)**"
   ]
  },
  {
   "cell_type": "code",
   "execution_count": 41,
   "metadata": {},
   "outputs": [
    {
     "name": "stdout",
     "output_type": "stream",
     "text": [
      "The total error of the clustering is: 2249552713.424217.\n",
      "\n",
      "Cluster labels:\n",
      "[1 1 1 1 1 1 1 1 1 1 1 1 1 1 1 1 1 1 1 1 1 1 1 1 1 1 1 1 1 1 1 1 1 1 1 1 1\n",
      " 1 1 1 1 1 1 1 1 1 1 1 1 1 1 1 1 1 1 1 1 1 1 1 1 1 1 1 1 1 1 1 1 1 0 0 0 0\n",
      " 0 0 0 0 0 0 0 0 0 0 0 0 0 0 0 0 0 0 0 0 0 0 0 0 0 0 1]\n"
     ]
    }
   ],
   "source": [
    "from sklearn.cluster import KMeans\n",
    "kmeans = KMeans(init='k-means++', n_clusters=2, n_init=100)\n",
    "kmeans.fit_predict(array)\n",
    "\n",
    "centroids = kmeans.cluster_centers_\n",
    "labels = kmeans.labels_\n",
    "error = kmeans.inertia_\n",
    "\n",
    "print(\"The total error of the clustering is: {}.\".format(error))\n",
    "print('\\nCluster labels:')\n",
    "print(labels)\n"
   ]
  },
  {
   "cell_type": "markdown",
   "metadata": {},
   "source": [
    "Ok so thats a massive error, which suggests that people post in both weekdays and weekends and its not as divisive as I had thought it would be"
   ]
  },
  {
   "cell_type": "code",
   "execution_count": 45,
   "metadata": {},
   "outputs": [
    {
     "data": {
      "image/png": "[encoded data removed]",
      "text/plain": [
       "<matplotlib.figure.Figure at 0x28de2de2358>"
      ]
     },
     "metadata": {},
     "output_type": "display_data"
    }
   ],
   "source": [
    "error = np.zeros(11)\n",
    "for k in range(1,11):\n",
    "    kmeans = KMeans(init='k-means++', n_clusters=k, n_init=10)\n",
    "    kmeans.fit_predict(array)\n",
    "    error[k] = kmeans.inertia_\n",
    "    \n",
    "plt.plot(range(1,len(error)),error[1:])\n",
    "plt.xlabel('Number of clusters')\n",
    "dummy = plt.ylabel('Error')"
   ]
  },
  {
   "cell_type": "markdown",
   "metadata": {},
   "source": [
    "Looks like 3 clusters would be better, makes sens as there would be those who psot solely on weekends, solely on weekdays and then a mix, higher clusters would serve at this point to find those who's posts skew towards weekend/weekday as opposed to an even split between. I would suspect based on this prediction that there is a good portion of those who post only on weekend/weekdays exclusively"
   ]
  },
  {
   "cell_type": "code",
   "execution_count": 46,
   "metadata": {},
   "outputs": [
    {
     "name": "stdout",
     "output_type": "stream",
     "text": [
      "The total error of the clustering is: 772122373.1384879.\n",
      "\n",
      "Cluster labels:\n",
      "[2 2 2 2 2 2 2 2 2 2 2 2 2 2 2 2 2 2 2 2 2 2 2 2 2 2 2 2 2 2 2 2 2 2 2 0 0\n",
      " 0 0 0 0 0 0 0 0 0 0 0 0 0 0 0 0 0 0 0 0 0 0 0 0 0 0 0 0 0 0 0 0 0 0 0 0 0\n",
      " 0 0 0 0 1 1 1 1 1 1 1 1 1 1 1 1 1 1 1 1 1 1 1 1 1 1 2]\n"
     ]
    }
   ],
   "source": [
    "from sklearn.cluster import KMeans\n",
    "kmeans = KMeans(init='k-means++', n_clusters=3, n_init=100)\n",
    "kmeans.fit_predict(array)\n",
    "\n",
    "centroids = kmeans.cluster_centers_\n",
    "labels = kmeans.labels_\n",
    "error = kmeans.inertia_\n",
    "\n",
    "print(\"The total error of the clustering is: {}.\".format(error))\n",
    "print('\\nCluster labels:')\n",
    "print(labels)"
   ]
  },
  {
   "cell_type": "code",
   "execution_count": 47,
   "metadata": {},
   "outputs": [
    {
     "data": {
      "text/plain": [
       "array([[   758.94603175,  30628.34760253],\n",
       "       [   737.01190476,  30544.14045968],\n",
       "       [   428.31190476,  30339.05712634],\n",
       "       [   358.74202742,  30105.90117396],\n",
       "       [   143.05264576,  29977.45117396],\n",
       "       [   431.78479021,  29926.14745663],\n",
       "       [   384.29511877,  29791.96809155],\n",
       "       [   295.81959772,  29638.25618678],\n",
       "       [   487.27738095,  29590.28952012],\n",
       "       [   408.06428571,  29422.88952012],\n",
       "       [   344.0271645 ,  29241.73356774],\n",
       "       [   429.25357143,  29119.72444075],\n",
       "       [   581.1702381 ,  28722.75301218],\n",
       "       [   512.08650794,  28471.08158361],\n",
       "       [  1783.56818182,  28295.58158361],\n",
       "       [   376.49396853,  28259.08158361],\n",
       "       [   490.70844156,  28125.09152645],\n",
       "       [   334.04473304,  27884.89152645],\n",
       "       [   642.56666667,  27629.01364044],\n",
       "       [   372.84782024,  27493.41364044],\n",
       "       [   418.4273088 ,  27373.77322253],\n",
       "       [   485.23174603,  27246.95179396],\n",
       "       [   636.39285714,  27115.25500463],\n",
       "       [   571.40634921,  27009.81611574],\n",
       "       [   317.68485681,  26800.09587765],\n",
       "       [   591.53333333,  26692.20081439],\n",
       "       [   566.48690476,  26158.81748105],\n",
       "       [   472.4959596 ,  25876.18771915],\n",
       "       [   184.91702198,  25727.38414772],\n",
       "       [   745.95      ,  25648.75083314],\n",
       "       [   618.20238095,  25375.31035695],\n",
       "       [   668.60277778,  25121.70341251],\n",
       "       [   420.40664613,  25026.87007917],\n",
       "       [   356.66742424,  24956.12007917],\n",
       "       [    60.        ,  24859.6964528 ],\n",
       "       [   382.00505328,  22527.6964528 ],\n",
       "       [   379.53499066,  22387.88519739],\n",
       "       [   476.44047619,  22280.96889702],\n",
       "       [   489.22499102,  22140.46056369],\n",
       "       [   404.97518038,  22010.5491279 ],\n",
       "       [   307.41056999,  21879.08092111],\n",
       "       [   946.74801587,  21787.79260942],\n",
       "       [   367.53629149,  21601.94816498],\n",
       "       [   560.58253968,  21513.0156253 ],\n",
       "       [   394.60452325,  21401.8453872 ],\n",
       "       [   557.12824675,  21245.22940596],\n",
       "       [   440.41334564,  21042.58130961],\n",
       "       [   403.60705128,  20859.25569634],\n",
       "       [   267.9523643 ,  20709.19653328],\n",
       "       [  1484.98333333,  20528.78040773],\n",
       "       [   449.57696193,  20235.53040773],\n",
       "       [   627.975     ,  20079.8417242 ],\n",
       "       [   664.66547619,  19731.24886705],\n",
       "       [   737.93333333,  19515.00442261],\n",
       "       [   396.45321411,  19277.43775594],\n",
       "       [   417.51912576,  19134.49003422],\n",
       "       [   177.10577192,  18928.44200725],\n",
       "       [  3139.        ,  18854.37319232],\n",
       "       [  3214.9       ,  18849.87319232],\n",
       "       [   785.63174603,  18826.03985899],\n",
       "       [   439.46972194,  18583.45652565],\n",
       "       [   345.83741118,  18459.82477962],\n",
       "       [  3300.        ,  18351.04632752],\n",
       "       [   668.74628427,  18345.04632752],\n",
       "       [   335.91259174,  18117.37515147],\n",
       "       [   227.19999261,  17982.65579028],\n",
       "       [   461.63234682,  17857.76918136],\n",
       "       [   365.83217061,  17742.45035019],\n",
       "       [   375.63049728,  17546.72596347],\n",
       "       [    59.        ,  17410.70588771],\n",
       "       [   552.17908064,  15593.70588771],\n",
       "       [   410.44069552,  15510.41461787],\n",
       "       [   687.12041847,  15356.45027074],\n",
       "       [   314.00355652,  15139.64947709],\n",
       "       [   288.24405689,  15068.75005707],\n",
       "       [   408.7254125 ,  15014.34277231],\n",
       "       [  4155.1       ,  14868.22948283],\n",
       "       [    37.        ,  14849.72948283],\n",
       "       [  4725.        ,  10195.72948283],\n",
       "       [   382.87176009,  10191.72948283],\n",
       "       [   659.98330003,  10050.92955408],\n",
       "       [   325.03207656,   9858.24702272],\n",
       "       [  5471.33333333,   9743.58869494],\n",
       "       [  3093.        ,   9731.58869494],\n",
       "       [   871.16851759,   7180.58869494],\n",
       "       [   646.03142185,   6923.98737404],\n",
       "       [  6032.37380952,   6722.03164227],\n",
       "       [  3006.6284632 ,   6651.19830893],\n",
       "       [   913.84031671,   6586.92330893],\n",
       "       [   598.17825238,   6372.79777083],\n",
       "       [  4958.32420912,   6146.96269349],\n",
       "       [  7531.01190476,   5966.26659343],\n",
       "       [   327.03325086,   5930.12492676],\n",
       "       [  1250.06831228,   5817.13080808],\n",
       "       [  2458.18571429,   5425.89747475],\n",
       "       [ 10032.53333333,   3188.38080808],\n",
       "       [  9781.97034632,   3174.71414141],\n",
       "       [  2967.26666667,   3033.10937951],\n",
       "       [  5480.11865079,    359.35937951],\n",
       "       [  3068.47095135,    291.55223665],\n",
       "       [   758.94603175,  30628.34760253]])"
      ]
     },
     "execution_count": 47,
     "metadata": {},
     "output_type": "execute_result"
    }
   ],
   "source": [
    "array\n",
    "# this is the array of all the users as rows and column 1 = weekday posts, column 2 = weekend posts, this surprises me clustering\n",
    "# gave me such an even spread as I'd expect, by inspection, there to be a heavy weekend skew"
   ]
  },
  {
   "cell_type": "markdown",
   "metadata": {},
   "source": [
    "Compare the two different metrics you used and report any observations. Why did you select the specific metrics? Which do you think performed better based on the results you were expecting and why? **(5 pts)**"
   ]
  },
  {
   "cell_type": "markdown",
   "metadata": {
    "collapsed": true
   },
   "source": [
    "I used euclidean simply as a proof of concept that there are in fact people who have answers at around weekdays and weekends relatively exclusively and that there would be a divide between the two. I used clustering to determine whether weekend or weekdays were more popular as I would know which user belongs to which. However the results were suprising especially when compared to the array above that you cansee by inspection is heavily weekend skewed. The cluster labels seem to be only slightly skewed, not sure if this is truely indicative of the data shown. In either case, whether it's right or wrong, clustering performed better than raw distance for my hypothesis as it told me which users bleong to which group and hence allows me to judge it's popularity."
   ]
  }
 ],
 "metadata": {
  "anaconda-cloud": {},
  "kernelspec": {
   "display_name": "Python 3",
   "language": "python",
   "name": "python3"
  },
  "language_info": {
   "codemirror_mode": {
    "name": "ipython",
    "version": 3
   },
   "file_extension": ".py",
   "mimetype": "text/x-python",
   "name": "python",
   "nbconvert_exporter": "python",
   "pygments_lexer": "ipython3",
   "version": "3.6.1"
  }
 },
 "nbformat": 4,
 "nbformat_minor": 1
}
